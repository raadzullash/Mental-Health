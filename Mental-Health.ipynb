{
 "cells": [
  {
   "cell_type": "markdown",
   "source": [
    "# Mentale Gesundheit: Eine Reise durch die Psyche\n",
    "\n",
    "## Eine Reise durch die Psyche: Wie Daten uns helfen können, mentale Gesundheit zu verstehen\n",
    "\n",
    "## Einleitung:\n",
    "Depressionen, Angstzustände und Stress sind in unserer modernen Gesellschaft allgegenwärtig und betreffen Menschen jeden Alters, Geschlechts und Hintergrunds. Obwohl es viele Ressourcen gibt, die versuchen, das Bewusstsein für diese Themen zu schärfen, bleibt ihre Ursache größtenteils unbekannt. Eine Möglichkeit, mehr über diese Phänomene zu erfahren, besteht darin, die Daten der Depression Anxiety Stress Scales (DASS) zu nutzen, die zwischen 2017 und 2019 gesammelt wurden. Die DASS-Umfrage ist ein standardisierter Fragebogen, der darauf abzielt, Depressionen, Angstzustände und Stress bei Befragten zu messen. Entwickelt wurde der psychometrische Fragebogen von Dr. Peter Lovibond und Dr. Stephen Lovibond und besteht aus 42 Fragen, die jeweils von 1 bis 4 skaliert sind. Die Bewertungsmöglichkeiten sind unten abgebildet und bilden ab, ob die Frage sehr stark auf die befragte Person zutrifft (4 Apply to me very much, or most of the time) oder gar keine Übereinstimmung it der Frage vorhanden ist (1 Did not apply to me at all)\n",
    "\n",
    "![DASS-Skala](db/demo1.png)\n",
    "\n",
    "\n",
    "## Ziel des Notebooks:\n",
    "Analyse der DASS-Umfrageergebnisse und Untersuchung potenzieller Faktoren, die mit Depressionen, Angstzuständen und Stress assoziiert sind. Besonders im Vordergrund stehen Vorurteile, die es gegenüber Depressionen und ähnlichen Krankheiten gibt in Hinblick auf das Geschlecht und die Herkunft. . Ist es tatsächlich so, dass Frauen eher an einer Depression leiden? Trifft Menschen mit einem akademischen Abschluss eine Depression seltener, weil er wahrscheinlich ein höheres Gehalt verspricht oder ist das nur Schein? Gibt es einen Zusammenhang zwischen Depressionen und Herkunft? Auf diese und ähnliche Fragen wird in der Analyse eingegangen.\n",
    "\n",
    "## Methodik:\n",
    "\n",
    "Wie bereits unter dem Punkt Einleitung angemerkt, wurden die Daten wurden durch eine Online-Version der DASS-Umfrage von 2017 bis 2019 gesammelt. Dadurch ist ein aussagekräftiges Ergebnis von fast 40.000 Daten entstanden. Ebenfalls schon erwähnt wurde die Skalierung durch die DASS-Umfrage, wodurch eine Bewertung der Ergebnisse ermöglicht wird. Insgesamt standen 42 Fragen zur Verfügung, die durch die Bewertung beantwortet werden mussten.  Allerdings wurden nicht nur die Antworten gespeichert, sondern auch einerseits die Geschwindigkeit, in der diese beantwortet wurden und andererseits die Stelle, an der sie gefragt wurden, weil jeder Befragte eine zufällige Anordnung der Fragen erhalten hat. Darauffolgend wurde der TEN-ITEM PERSONALITY INVENTORY-(TIPI) durchgeführt, welcher Persönlichkeitseigenschaften analysiert. Bei dieser Umfrage stehen 10 Charaktereigenschaften zur Verfügung, die erneut skaliert und beantwortet werden müssen, wobei es hier 7 Bewertungsmöglichkeiten gibt.\n",
    "\n",
    "![TIPI](db/TIPI.png)\n",
    "\n",
    "Zuguterletzt wurden die Stammdaten der Teilnehmer befragt, welche Daten, wie Geschlecht, Alter, Herkunft enthalten.\n",
    "\n",
    "![Stammdaten](db/Stammdaten.png)\n",
    "\n",
    "Die Umfrage war für jeden offen, und die Teilnehmer waren motiviert, sie auszufüllen, um personalisierte Ergebnisse zu erhalten.\n",
    "Die Daten, die in dieser Analyse verwendet wurden, wurden von Personen gesammelt, die einer Forschungsumfrage zugestimmt und ihre Daten für Forschungszwecke zur Verfügung gestellt haben.\n",
    "Die Analyse wird basierend auf den Antworten zu jeder Frage sowie den demografischen und technischen Informationen durchgeführt, die von den Teilnehmern bereitgestellt wurden. Insgesamt hat es\n",
    "\n",
    "Durch die Analyse der Daten der DASS-Umfrage hoffen wir, Einblicke in die Faktoren zu gewinnen, die mit Depressionen, Angstzuständen und Stress assoziiert sind. Diese Erkenntnisse könnten dazu beitragen, Präventions- und Behandlungsansätze zu entwickeln, um das Leben von Menschen, die von diesen Zuständen betroffen sind, zu verbessern. Idealerweise kann dadurch eine Entstigmatisierung von psychischen Krankheiten erreicht werden.\n",
    "\n",
    "## Architektur\n",
    "\n",
    "### Setup\n",
    "\n",
    "![Architektur](db/Projekt-Architektur.png)\n",
    "\n",
    "Für das Projekt werden auf den lokalen Rechnern Conda für die Python-Execution, DataSpell als IDE und je nach Projektmitglied teilweise MongoDB Compass oder DataGrip als GUI verwendet, um einen einfacheren Einblick zum Datenbank-Server zu erhalten. Die Datenbank selbst ist eine MongoDB Instanz, welche am FHTW-Server gehostet wird. Dadurch sind die Daten zentral für alle Teammitglieder zugänglich. Zusätzlich gibt es auf GitHub ein Repository, welches alle wichtigen Files sowie dieses Notebook selbst beinhaltet, um allen Mitgliedern des Teams die simultane Bearbeitung zu ermöglichen.\n",
    "\n",
    "### Komponente und Versionen\n",
    "\n",
    "- Conda: 22.9\n",
    "- Python: 3.9\n",
    "- Pymongo: 4.3.3\n",
    "- Pandas: 1.4.4"
   ],
   "metadata": {
    "collapsed": false
   }
  },
  {
   "cell_type": "markdown",
   "source": [
    "### Import von Packages"
   ],
   "metadata": {
    "collapsed": false
   }
  },
  {
   "cell_type": "code",
   "execution_count": null,
   "outputs": [],
   "source": [
    "try:\n",
    "    import pymongo as mdb\n",
    "    import csv\n",
    "    import pandas as pd\n",
    "except ImportError:\n",
    "    !pip3 install pymongo\n",
    "    !pip3 install python-csv\n",
    "    !pip3 install pandas\n",
    "    import pymongo as mdb\n",
    "    import csv\n",
    "    import pandas as pd"
   ],
   "metadata": {
    "collapsed": false,
    "ExecuteTime": {
     "start_time": "2023-04-22T18:18:42.852399Z",
     "end_time": "2023-04-22T18:18:42.860434Z"
    }
   }
  },
  {
   "cell_type": "markdown",
   "source": [
    "### Die Verbindung zum MongoDB-Server wird eingerichtet"
   ],
   "metadata": {
    "collapsed": false
   }
  },
  {
   "cell_type": "code",
   "execution_count": null,
   "outputs": [],
   "source": [
    "try:\n",
    "    client = mdb.MongoClient(\"mongodb://pt-n20.p4001.w3.cs.technikum-wien.at:4001\")\n",
    "\n",
    "    db = client.mental_health_db\n",
    "    collection = db.survey\n",
    "\n",
    "    if 'mental_health_db' in client.list_database_names():\n",
    "        print('Connected to database')\n",
    "    if 'survey' in db.list_collection_names():\n",
    "        print('Connected to collection')\n",
    "except mdb.errors.ConnectionFailure as e:\n",
    "    print(e)"
   ],
   "metadata": {
    "collapsed": false,
    "ExecuteTime": {
     "start_time": "2023-04-22T18:19:11.563656Z",
     "end_time": "2023-04-22T18:19:11.961525Z"
    }
   }
  },
  {
   "cell_type": "markdown",
   "source": [
    "### CSV-Datensatz hochladen"
   ],
   "metadata": {
    "collapsed": false
   }
  },
  {
   "cell_type": "markdown",
   "source": [
    "Die Daten wurden mithilfe des Codes den man darunter sieht auf den Server hochgeladen. Es wurde auskommentiert, damit dies nicht unabsichtlich wieder ausgeführt werden kann."
   ],
   "metadata": {
    "collapsed": false
   }
  },
  {
   "cell_type": "code",
   "execution_count": null,
   "outputs": [],
   "source": [
    "'''data = pd.read_csv('db/data.csv', delimiter='\\t')\n",
    "keys = data.columns.tolist()\n",
    "data_dict = data.to_dict('records')\n",
    "for item in data_dict:\n",
    "    record = {}\n",
    "    for key in keys:\n",
    "        record[key] = item[key]\n",
    "    collection.insert_one(record)'''"
   ],
   "metadata": {
    "collapsed": false,
    "ExecuteTime": {
     "start_time": "2023-04-22T18:21:11.414773Z",
     "end_time": "2023-04-22T18:21:11.470975Z"
    }
   }
  },
  {
   "cell_type": "markdown",
   "source": [
    "### Daten vom Server abfragen und in Pandas Dataframe speichern"
   ],
   "metadata": {
    "collapsed": false
   }
  },
  {
   "cell_type": "code",
   "execution_count": 10,
   "outputs": [],
   "source": [
    "cursor = collection.find({})\n",
    "data = pd.DataFrame(list(cursor))\n",
    "data = data.drop('_id', axis=1)\n",
    "client.close()"
   ],
   "metadata": {
    "collapsed": false,
    "ExecuteTime": {
     "start_time": "2023-04-22T18:21:42.352708Z",
     "end_time": "2023-04-22T18:21:57.042742Z"
    }
   }
  },
  {
   "cell_type": "code",
   "execution_count": 11,
   "outputs": [
    {
     "name": "stdout",
     "output_type": "stream",
     "text": [
      "       Q1A  Q1I    Q1E  Q2A  Q2I   Q2E  Q3A  Q3I    Q3E  Q4A  ...  screensize  \\\n",
      "0        4   28   3890    4   25  2122    2   16   1944    4  ...           1   \n",
      "1        4    2   8118    1   36  2890    2   35   4777    3  ...           2   \n",
      "2        3    7   5784    1   33  4373    4   41   3242    1  ...           2   \n",
      "3        2   23   5081    3   11  6837    2   37   5521    1  ...           2   \n",
      "4        2   36   3215    2   13  7731    3    5   4156    4  ...           2   \n",
      "...    ...  ...    ...  ...  ...   ...  ...  ...    ...  ...  ...         ...   \n",
      "39770    2   31   3287    1    5  2216    3   29   3895    2  ...           2   \n",
      "39771    3   14   4792    4   41  2604    3   15   2668    4  ...           1   \n",
      "39772    2    1  25147    1    4  4555    2   14   3388    1  ...           2   \n",
      "39773    3   36   4286    1   34  2736    2   10   5968    2  ...           2   \n",
      "39774    2   28  32251    1   22  3317    2    4  11734    1  ...           1   \n",
      "\n",
      "       uniquenetworklocation  hand  religion  orientation  race  voted  \\\n",
      "0                          1     1        12            1    10      2   \n",
      "1                          1     2         7            0    70      2   \n",
      "2                          1     1         4            3    60      1   \n",
      "3                          1     2         4            5    70      2   \n",
      "4                          2     3        10            1    10      2   \n",
      "...                      ...   ...       ...          ...   ...    ...   \n",
      "39770                      1     1         2            4    60      2   \n",
      "39771                      1     1        10            0    10      2   \n",
      "39772                      1     1         7            1    30      1   \n",
      "39773                      1     1         6            1    60      1   \n",
      "39774                      1     1        10            1    10      1   \n",
      "\n",
      "       married  familysize              major  \n",
      "0            1           2                NaN  \n",
      "1            1           4                NaN  \n",
      "2            1           3                NaN  \n",
      "3            1           5            biology  \n",
      "4            1           4         Psychology  \n",
      "...        ...         ...                ...  \n",
      "39770        1           2                NaN  \n",
      "39771        1           4         Mathematic  \n",
      "39772        2           3   Computer Science  \n",
      "39773        1           2            History  \n",
      "39774        1           4  Cognitive Science  \n",
      "\n",
      "[39775 rows x 172 columns]\n"
     ]
    }
   ],
   "source": [
    "print(data)"
   ],
   "metadata": {
    "collapsed": false,
    "ExecuteTime": {
     "start_time": "2023-04-22T18:21:59.715981Z",
     "end_time": "2023-04-22T18:21:59.765774Z"
    }
   }
  },
  {
   "cell_type": "code",
   "execution_count": null,
   "outputs": [],
   "source": [],
   "metadata": {
    "collapsed": false,
    "ExecuteTime": {
     "start_time": "2023-04-22T18:00:32.889113Z",
     "end_time": "2023-04-22T18:00:33.439925Z"
    }
   }
  }
 ],
 "metadata": {
  "kernelspec": {
   "display_name": "Python 3",
   "language": "python",
   "name": "python3"
  },
  "language_info": {
   "codemirror_mode": {
    "name": "ipython",
    "version": 2
   },
   "file_extension": ".py",
   "mimetype": "text/x-python",
   "name": "python",
   "nbconvert_exporter": "python",
   "pygments_lexer": "ipython2",
   "version": "2.7.6"
  }
 },
 "nbformat": 4,
 "nbformat_minor": 0
}
